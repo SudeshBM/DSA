{
 "cells": [
  {
   "cell_type": "code",
   "execution_count": 18,
   "id": "a49b807f-fc12-4ed4-9f86-dda2e9f965f8",
   "metadata": {},
   "outputs": [],
   "source": [
    "class Node:\n",
    "    def __init__(self,value):\n",
    "        self.data = value\n",
    "        self.next = None"
   ]
  },
  {
   "cell_type": "code",
   "execution_count": 24,
   "id": "6852e7e3-e327-4b8e-9e62-4e0e39547495",
   "metadata": {},
   "outputs": [],
   "source": [
    "class Queue:\n",
    "    def __init__(self):\n",
    "        # Initialize an empty queue with front and rear set to None\n",
    "        self.front = None\n",
    "        self.rear = None\n",
    "\n",
    "    def enqueue(self, value):\n",
    "        # Adds a new node with the given value to the end of the queue\n",
    "        new_node = Node(value)\n",
    "\n",
    "        # If the queue is empty, set both front and rear to the new node\n",
    "        if self.rear is None:\n",
    "            self.front = new_node\n",
    "            self.rear = self.front\n",
    "        else:\n",
    "            # Link the current rear node to the new node and update rear\n",
    "            self.rear.next = new_node\n",
    "            self.rear = new_node\n",
    "\n",
    "    def dequeue(self):\n",
    "        # Removes the front node from the queue\n",
    "        if self.front is None:\n",
    "            return 'Queue is Empty'\n",
    "        else:\n",
    "            # Move the front pointer to the next node, effectively removing the first node\n",
    "            self.front = self.front.next\n",
    "\n",
    "            # If the queue becomes empty, reset rear to None as well\n",
    "            if self.front is None:\n",
    "                self.rear = None\n",
    "\n",
    "    def is_empty(self):\n",
    "        # Checks if the queue is empty by verifying if the front is None\n",
    "        return self.front is None\n",
    "\n",
    "    def size(self):\n",
    "        # Counts the number of nodes in the queue\n",
    "        temp = self.front\n",
    "        counter = 0\n",
    "\n",
    "        while temp is not None:\n",
    "            counter += 1\n",
    "            temp = temp.next\n",
    "\n",
    "        return counter\n",
    "\n",
    "    def front_item(self):\n",
    "        # Returns the value at the front of the queue\n",
    "        if not self.is_empty():\n",
    "            return self.front.data\n",
    "        else:\n",
    "            return \"Empty queue\"\n",
    "\n",
    "    def rear_item(self):\n",
    "        # Returns the value at the rear of the queue\n",
    "        if not self.is_empty():\n",
    "            return self.rear.data\n",
    "        else:\n",
    "            return \"Empty queue\"\n",
    "\n",
    "    def traverse(self):\n",
    "        # Prints all elements in the queue from front to rear\n",
    "        temp = self.front\n",
    "        while temp is not None:\n",
    "            print(temp.data, end=' ')\n",
    "            temp = temp.next\n",
    "        print()  # New line for cleaner output after traversal\n"
   ]
  },
  {
   "cell_type": "code",
   "execution_count": 25,
   "id": "cbadb74a-bd68-4b57-81f9-f912958aa1fd",
   "metadata": {},
   "outputs": [],
   "source": [
    "q = Queue()"
   ]
  },
  {
   "cell_type": "code",
   "execution_count": 26,
   "id": "acff94cf-10f7-40fd-82b4-ed5e9caca009",
   "metadata": {},
   "outputs": [],
   "source": [
    "q.enqueue(18)\n",
    "q.enqueue(45)\n",
    "q.enqueue(17)\n",
    "q.enqueue(7)"
   ]
  },
  {
   "cell_type": "code",
   "execution_count": 27,
   "id": "2f13f0a1-98cd-489e-a228-89364c99a8c9",
   "metadata": {},
   "outputs": [
    {
     "name": "stdout",
     "output_type": "stream",
     "text": [
      "18 45 17 7 \n"
     ]
    }
   ],
   "source": [
    "q.traverse()"
   ]
  },
  {
   "cell_type": "code",
   "execution_count": 28,
   "id": "aa84d447-31fd-47e9-9d15-3f8203a913ab",
   "metadata": {},
   "outputs": [
    {
     "data": {
      "text/plain": [
       "4"
      ]
     },
     "execution_count": 28,
     "metadata": {},
     "output_type": "execute_result"
    }
   ],
   "source": [
    "q.size()"
   ]
  },
  {
   "cell_type": "code",
   "execution_count": 29,
   "id": "4166f85d-51d1-4a36-8e89-db20defa7313",
   "metadata": {},
   "outputs": [
    {
     "data": {
      "text/plain": [
       "18"
      ]
     },
     "execution_count": 29,
     "metadata": {},
     "output_type": "execute_result"
    }
   ],
   "source": [
    "q.front_item()"
   ]
  },
  {
   "cell_type": "code",
   "execution_count": 30,
   "id": "d8fcf269-57c7-4a74-924d-4b0d046d55bb",
   "metadata": {},
   "outputs": [
    {
     "data": {
      "text/plain": [
       "7"
      ]
     },
     "execution_count": 30,
     "metadata": {},
     "output_type": "execute_result"
    }
   ],
   "source": [
    "q.rear_item()"
   ]
  },
  {
   "cell_type": "code",
   "execution_count": null,
   "id": "dfb65540-ca16-4faf-a751-0c545e665396",
   "metadata": {},
   "outputs": [],
   "source": []
  },
  {
   "cell_type": "code",
   "execution_count": null,
   "id": "bfcd980c-25f1-4cb8-b0f0-611489e11d14",
   "metadata": {},
   "outputs": [],
   "source": []
  }
 ],
 "metadata": {
  "kernelspec": {
   "display_name": "Python 3 (ipykernel)",
   "language": "python",
   "name": "python3"
  },
  "language_info": {
   "codemirror_mode": {
    "name": "ipython",
    "version": 3
   },
   "file_extension": ".py",
   "mimetype": "text/x-python",
   "name": "python",
   "nbconvert_exporter": "python",
   "pygments_lexer": "ipython3",
   "version": "3.12.7"
  }
 },
 "nbformat": 4,
 "nbformat_minor": 5
}
