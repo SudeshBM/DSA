{
 "cells": [
  {
   "cell_type": "code",
   "execution_count": 59,
   "id": "452b3ff6-42fe-4f21-848e-9e548847cded",
   "metadata": {},
   "outputs": [],
   "source": [
    "class Node:\n",
    "    def __init__(self,value):\n",
    "        self.data = value\n",
    "        self.next = None"
   ]
  },
  {
   "cell_type": "code",
   "execution_count": 60,
   "id": "064bf7de-5dfa-44bd-a19c-be15b41bb079",
   "metadata": {},
   "outputs": [],
   "source": [
    "a = Node(1)\n",
    "b = Node(2)\n",
    "c = Node(3)"
   ]
  },
  {
   "cell_type": "code",
   "execution_count": 61,
   "id": "6c4d260b-d5c7-4579-a9aa-80aaecda197b",
   "metadata": {},
   "outputs": [],
   "source": [
    "a.next = b\n",
    "b.next = c"
   ]
  },
  {
   "cell_type": "code",
   "execution_count": 65,
   "id": "3da90ab0-b5b6-4da3-b81c-4bcd922a9484",
   "metadata": {},
   "outputs": [
    {
     "name": "stdout",
     "output_type": "stream",
     "text": [
      "<__main__.Node object at 0x0000024207491250>\n"
     ]
    }
   ],
   "source": [
    "print(a.next)"
   ]
  },
  {
   "cell_type": "code",
   "execution_count": 68,
   "id": "355a0333-a1a7-4026-af70-13b7a672a0e9",
   "metadata": {},
   "outputs": [
    {
     "data": {
      "text/plain": [
       "2482613326416"
      ]
     },
     "execution_count": 68,
     "metadata": {},
     "output_type": "execute_result"
    }
   ],
   "source": [
    "int(0x0000024207491250)"
   ]
  },
  {
   "cell_type": "code",
   "execution_count": 69,
   "id": "45bbad5b-2176-4729-ae16-874a5ca15952",
   "metadata": {},
   "outputs": [
    {
     "data": {
      "text/plain": [
       "2482613326416"
      ]
     },
     "execution_count": 69,
     "metadata": {},
     "output_type": "execute_result"
    }
   ],
   "source": [
    "id(b)"
   ]
  },
  {
   "cell_type": "code",
   "execution_count": 1,
   "id": "1888bcda-4045-4670-b58a-9265c273c26c",
   "metadata": {},
   "outputs": [],
   "source": [
    "class Node:\n",
    "    def __init__(self,value):\n",
    "        self.data = value\n",
    "        self.next = None"
   ]
  },
  {
   "cell_type": "code",
   "execution_count": 2,
   "id": "35badcd2-a30e-4531-8366-64cb11cc417b",
   "metadata": {},
   "outputs": [],
   "source": [
    "class LinkedList:\n",
    "\n",
    "  def __init__(self):\n",
    "\n",
    "    # Empty Linked List\n",
    "    self.head = None\n",
    "    # no of nodes in the LL\n",
    "    self.n = 0\n",
    "\n",
    "  def __len__(self):\n",
    "        return self.n\n",
    "\n",
    "  def insert_head(self,value):\n",
    "    # new node\n",
    "      new_node = Node(value)\n",
    "\n",
    "    # create connection\n",
    "      new_node.next = self.head\n",
    "\n",
    "    # reassign head\n",
    "      self.head = new_node\n",
    "\n",
    "    # increment size(n)\n",
    "      self.n = self.n + 1\n",
    "\n",
    "  # def traverse(self):\n",
    "  #     curr = self.head\n",
    "\n",
    "  #     while curr != None:\n",
    "  #         print(curr.data)\n",
    "  #         curr = curr.next\n",
    "\n",
    "  def __str__(self):\n",
    "      curr = self.head\n",
    "      result = ''\n",
    "      while curr != None: # to stop exactly at none/tail node \n",
    "          result = result + str(curr.data) + '->'\n",
    "          curr = curr.next\n",
    "\n",
    "      return result[:-2]\n",
    "\n",
    "  def append(self,value):\n",
    "    new_node = Node(value)\n",
    "      \n",
    "      # If LL is empty\n",
    "    if self.head == None:\n",
    "        self.head = new_node\n",
    "        self.n = self.n + 1\n",
    "        return\n",
    "\n",
    "    curr = self.head\n",
    "\n",
    "    # traverse\n",
    "    while curr.next != None: # to stop at a node before none/curr node \n",
    "      curr = curr.next\n",
    "\n",
    "    # you are at the last node\n",
    "    curr.next = new_node\n",
    "    self.n = self.n + 1\n",
    "\n",
    "  def insert_after(self,after,value):\n",
    "      new_node = Node(value)\n",
    "\n",
    "      curr = self.head\n",
    "      while curr != None:\n",
    "        if curr.data == after:\n",
    "          break\n",
    "        curr = curr.next\n",
    "\n",
    "\n",
    "      # case 1 - Item found curr is not none\n",
    "      if curr != None:\n",
    "          new_node.next = curr.next\n",
    "          curr.next = new_node\n",
    "          self.n = self.n + 1\n",
    "       # case 2 - Item not found curr is none\n",
    "      else:\n",
    "        return 'Item not found'\n",
    "          \n",
    "  def clear(self):\n",
    "      self.head = None\n",
    "      self.n = 0\n",
    "\n",
    "  def delete_head(self):\n",
    "    # If LL is empty\n",
    "      if self.head == None:\n",
    "          return 'Empty LinkedList'\n",
    "\n",
    "      self.head = self.head.next\n",
    "      self.n = self.n - 1\n",
    "\n",
    "    \n",
    "  def pop(self):\n",
    "    # If LL is empty\n",
    "      if self.head == None:\n",
    "          return 'Empty LinkedList'\n",
    "           \n",
    "      curr = self.head\n",
    "    # If LL has only one node/element\n",
    "      if curr.next == None:\n",
    "          return self.delete_head()\n",
    "     \n",
    "\n",
    "      while curr.next.next != None:\n",
    "        curr = curr.next\n",
    "\n",
    "      curr.next = None\n",
    "      self.n = self.n - 1\n",
    "\n",
    "\n",
    "  def remove(self,value):\n",
    "\n",
    "    if self.head == None:\n",
    "      return 'Empty LL'\n",
    "\n",
    "    if self.head.data == value:\n",
    "      # you want to remove the head node\n",
    "      return self.delete_head()\n",
    "\n",
    "    curr = self.head\n",
    "\n",
    "    while curr.next != None:\n",
    "      if curr.next.data == value:\n",
    "        break\n",
    "      curr = curr.next\n",
    "\n",
    "    # 2 cases \n",
    "    # item not found\n",
    "    if curr.next == None:\n",
    "      return 'Not Found'\n",
    "    # item found\n",
    "    else:\n",
    "      curr.next = curr.next.next\n",
    "      self.n = self.n - 1\n",
    "\n",
    "  def search(self,item):\n",
    "      curr = self.head\n",
    "      pos = 0\n",
    "      while curr != None:\n",
    "          if curr.data == item:\n",
    "              return pos\n",
    "          curr = curr.next\n",
    "          pos = pos + 1\n",
    "\n",
    "\n",
    "      return 'Item not found'\n",
    "\n",
    "\n",
    "  def __getitem__(self,index):\n",
    "      curr = self.head\n",
    "      pos = 0\n",
    "      while curr != None:\n",
    "          if pos == index:\n",
    "              return curr.data\n",
    "          curr = curr.next\n",
    "          pos = pos + 1\n",
    "\n",
    "\n",
    "      return 'IndexError'\n",
    "\n",
    "\n",
    "  def replace_max(self,value):\n",
    "      curr = self.head\n",
    "      max = curr\n",
    "      while curr != None:\n",
    "          if curr.data > max.data:\n",
    "              max = curr\n",
    "          curr = curr.next\n",
    "          \n",
    "      max.data = value\n",
    "\n",
    "  def replace_min(self,value):\n",
    "      curr = self.head\n",
    "      min = curr\n",
    "      while curr != None:\n",
    "          if curr.data < min.data:\n",
    "              min = curr\n",
    "          curr = curr.next\n",
    "          \n",
    "      min.data = value\n",
    "\n",
    "\n",
    "  def sum_odd_nodes(self):\n",
    "    temp = self.head\n",
    "    counter = 0\n",
    "    result = 0\n",
    "\n",
    "    while temp is not None:\n",
    "        if counter % 2 != 0:\n",
    "            result += temp.data\n",
    "\n",
    "        counter += 1\n",
    "        temp = temp.next  \n",
    "\n",
    "    print(result)\n"
   ]
  },
  {
   "cell_type": "code",
   "execution_count": 3,
   "id": "916714dc-f36b-4bf8-9b6a-8052dfddaa0f",
   "metadata": {},
   "outputs": [],
   "source": [
    "L = LinkedList()"
   ]
  },
  {
   "cell_type": "code",
   "execution_count": 4,
   "id": "72b0c225-9b31-4a42-a647-58b716976036",
   "metadata": {},
   "outputs": [],
   "source": [
    "L.insert_head(4)\n",
    "L.insert_head(3)\n",
    "L.insert_head(2)\n",
    "L.insert_head(1)"
   ]
  },
  {
   "cell_type": "code",
   "execution_count": 29,
   "id": "62d394b8-282b-4ae4-ab46-ea257e41aec7",
   "metadata": {},
   "outputs": [],
   "source": [
    "L.insert_after(1,0)"
   ]
  },
  {
   "cell_type": "code",
   "execution_count": 43,
   "id": "c1f12fe2-f03b-4788-aa00-8ad0c2a6ed8c",
   "metadata": {},
   "outputs": [],
   "source": [
    "L.append(6)"
   ]
  },
  {
   "cell_type": "code",
   "execution_count": 11,
   "id": "3763e901-3eff-4910-a41d-a3d69af123b6",
   "metadata": {},
   "outputs": [],
   "source": [
    "L.delete_head()"
   ]
  },
  {
   "cell_type": "code",
   "execution_count": 35,
   "id": "f3afd9c2-8307-46f3-b1a0-2b7b3f206ed4",
   "metadata": {},
   "outputs": [
    {
     "data": {
      "text/plain": [
       "'Empty LinkedList'"
      ]
     },
     "execution_count": 35,
     "metadata": {},
     "output_type": "execute_result"
    }
   ],
   "source": [
    "L.pop()"
   ]
  },
  {
   "cell_type": "code",
   "execution_count": 7,
   "id": "dc23082a-4a15-45bc-b05d-61321b161ef0",
   "metadata": {},
   "outputs": [],
   "source": [
    "L.remove(2)"
   ]
  },
  {
   "cell_type": "code",
   "execution_count": 25,
   "id": "c9c8edee-b1ec-4677-8cd4-3014970d2100",
   "metadata": {},
   "outputs": [
    {
     "data": {
      "text/plain": [
       "3"
      ]
     },
     "execution_count": 25,
     "metadata": {},
     "output_type": "execute_result"
    }
   ],
   "source": [
    "L.search(4)"
   ]
  },
  {
   "cell_type": "code",
   "execution_count": 36,
   "id": "1610f2ae-7857-4612-bc3e-8316aa3cac49",
   "metadata": {},
   "outputs": [
    {
     "data": {
      "text/plain": [
       "4"
      ]
     },
     "execution_count": 36,
     "metadata": {},
     "output_type": "execute_result"
    }
   ],
   "source": [
    "L[3]"
   ]
  },
  {
   "cell_type": "code",
   "execution_count": 20,
   "id": "7732b652-18ff-46ef-b9e4-51e20125c5e1",
   "metadata": {},
   "outputs": [],
   "source": [
    "L.replace_max(2)"
   ]
  },
  {
   "cell_type": "code",
   "execution_count": 18,
   "id": "881c86de-abf1-44e4-b208-ac99188136b5",
   "metadata": {},
   "outputs": [],
   "source": [
    "L.replace_min(1)"
   ]
  },
  {
   "cell_type": "code",
   "execution_count": 5,
   "id": "bb3c9639-8079-48f6-833d-771df768f567",
   "metadata": {},
   "outputs": [
    {
     "name": "stdout",
     "output_type": "stream",
     "text": [
      "1->2->3->4\n"
     ]
    }
   ],
   "source": [
    "print(L)"
   ]
  },
  {
   "cell_type": "code",
   "execution_count": 6,
   "id": "bca91652-0261-4f15-8a38-ac2e46d99a07",
   "metadata": {},
   "outputs": [
    {
     "name": "stdout",
     "output_type": "stream",
     "text": [
      "6\n"
     ]
    }
   ],
   "source": [
    "L.sum_odd_nodes()"
   ]
  },
  {
   "cell_type": "code",
   "execution_count": null,
   "id": "5d9e76f2-b219-4b7d-95c7-38a878dde813",
   "metadata": {},
   "outputs": [],
   "source": []
  }
 ],
 "metadata": {
  "kernelspec": {
   "display_name": "Python 3 (ipykernel)",
   "language": "python",
   "name": "python3"
  },
  "language_info": {
   "codemirror_mode": {
    "name": "ipython",
    "version": 3
   },
   "file_extension": ".py",
   "mimetype": "text/x-python",
   "name": "python",
   "nbconvert_exporter": "python",
   "pygments_lexer": "ipython3",
   "version": "3.12.7"
  }
 },
 "nbformat": 4,
 "nbformat_minor": 5
}
