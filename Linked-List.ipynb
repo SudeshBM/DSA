{
 "cells": [
  {
   "cell_type": "code",
   "execution_count": 1,
   "id": "452b3ff6-42fe-4f21-848e-9e548847cded",
   "metadata": {},
   "outputs": [],
   "source": [
    "class Node:\n",
    "    def __init__(self, value):\n",
    "        # Initialize the node with a given value\n",
    "        self.data = value\n",
    "        \n",
    "        # The next attribute points to the next node in the list, initialized to None\n",
    "        self.next = None\n"
   ]
  },
  {
   "cell_type": "code",
   "execution_count": 60,
   "id": "064bf7de-5dfa-44bd-a19c-be15b41bb079",
   "metadata": {},
   "outputs": [],
   "source": [
    "a = Node(1)\n",
    "b = Node(2)\n",
    "c = Node(3)"
   ]
  },
  {
   "cell_type": "code",
   "execution_count": 61,
   "id": "6c4d260b-d5c7-4579-a9aa-80aaecda197b",
   "metadata": {},
   "outputs": [],
   "source": [
    "a.next = b\n",
    "b.next = c"
   ]
  },
  {
   "cell_type": "code",
   "execution_count": 65,
   "id": "3da90ab0-b5b6-4da3-b81c-4bcd922a9484",
   "metadata": {},
   "outputs": [
    {
     "name": "stdout",
     "output_type": "stream",
     "text": [
      "<__main__.Node object at 0x0000024207491250>\n"
     ]
    }
   ],
   "source": [
    "print(a.next)"
   ]
  },
  {
   "cell_type": "code",
   "execution_count": 68,
   "id": "355a0333-a1a7-4026-af70-13b7a672a0e9",
   "metadata": {},
   "outputs": [
    {
     "data": {
      "text/plain": [
       "2482613326416"
      ]
     },
     "execution_count": 68,
     "metadata": {},
     "output_type": "execute_result"
    }
   ],
   "source": [
    "int(0x0000024207491250)"
   ]
  },
  {
   "cell_type": "code",
   "execution_count": 69,
   "id": "45bbad5b-2176-4729-ae16-874a5ca15952",
   "metadata": {},
   "outputs": [
    {
     "data": {
      "text/plain": [
       "2482613326416"
      ]
     },
     "execution_count": 69,
     "metadata": {},
     "output_type": "execute_result"
    }
   ],
   "source": [
    "id(b)"
   ]
  },
  {
   "cell_type": "code",
   "execution_count": 2,
   "id": "1888bcda-4045-4670-b58a-9265c273c26c",
   "metadata": {},
   "outputs": [],
   "source": [
    "class Node:\n",
    "    def __init__(self,value):\n",
    "        self.data = value\n",
    "        self.next = None"
   ]
  },
  {
   "cell_type": "code",
   "execution_count": 3,
   "id": "35badcd2-a30e-4531-8366-64cb11cc417b",
   "metadata": {},
   "outputs": [],
   "source": [
    "class LinkedList:\n",
    "  \n",
    "  def __init__(self):\n",
    "    # Initialize an empty linked list\n",
    "    self.head = None  # The head points to None, meaning the list is empty initially\n",
    "    self.n = 0  # The number of nodes in the list is 0 initially\n",
    "  \n",
    "  def __len__(self):\n",
    "    # Return the size (number of nodes) of the linked list\n",
    "    return self.n\n",
    "\n",
    "  def insert_head(self, value):\n",
    "    # Insert a new node at the beginning (head) of the linked list\n",
    "    new_node = Node(value)  # Create a new node with the given value\n",
    "    new_node.next = self.head  # The new node's next pointer points to the current head\n",
    "    self.head = new_node  # Update the head to point to the new node\n",
    "    self.n += 1  # Increment the size of the linked list\n",
    "  \n",
    "  def __str__(self):\n",
    "    # String representation of the linked list\n",
    "    curr = self.head  # Start from the head of the list\n",
    "    result = ''\n",
    "    while curr != None:  # Traverse the list until the end (None)\n",
    "        result = result + str(curr.data) + '->'  # Append current node's data to the result string\n",
    "        curr = curr.next  # Move to the next node\n",
    "    \n",
    "    return result[:-2]  # Remove the last '->' and return the string representation\n",
    "\n",
    "  def append(self, value):\n",
    "    # Add a new node at the end (tail) of the linked list\n",
    "    new_node = Node(value)  # Create a new node with the given value\n",
    "    \n",
    "    # If the linked list is empty, make the new node the head\n",
    "    if self.head == None:\n",
    "        self.head = new_node\n",
    "        self.n += 1\n",
    "        return\n",
    "\n",
    "    # Otherwise, traverse to the last node\n",
    "    curr = self.head\n",
    "    while curr.next != None:  # Keep moving to the next node until the last one is reached\n",
    "        curr = curr.next\n",
    "    \n",
    "    # Add the new node after the last node\n",
    "    curr.next = new_node\n",
    "    self.n += 1  # Increment the size of the linked list\n",
    "\n",
    "  def insert_after(self, after, value):\n",
    "    # Insert a new node after a specific node containing a given value\n",
    "    new_node = Node(value)\n",
    "    \n",
    "    curr = self.head\n",
    "    while curr != None:\n",
    "      if curr.data == after:  # If the current node's data matches 'after'\n",
    "        break\n",
    "      curr = curr.next  # Move to the next node\n",
    "    \n",
    "    # If the 'after' value was found, insert the new node after it\n",
    "    if curr != None:\n",
    "        new_node.next = curr.next  # The new node's next points to the current node's next\n",
    "        curr.next = new_node  # The current node's next is updated to the new node\n",
    "        self.n += 1  # Increment the size of the linked list\n",
    "    else:\n",
    "        return 'Item not found'  # Return an error if the 'after' value is not found\n",
    "\n",
    "  def clear(self):\n",
    "    # Clear the linked list (make it empty)\n",
    "    self.head = None  # Set head to None, effectively removing all nodes\n",
    "    self.n = 0  # Reset the size of the linked list to 0\n",
    "\n",
    "  def delete_head(self):\n",
    "    # Delete the head node of the linked list\n",
    "    if self.head == None:\n",
    "        return 'Empty LinkedList'  # If the list is empty, return an error message\n",
    "\n",
    "    self.head = self.head.next  # Move the head pointer to the next node\n",
    "    self.n -= 1  # Decrement the size of the linked list\n",
    "  \n",
    "  def pop(self):\n",
    "    # Remove the last node (tail) of the linked list\n",
    "    if self.head == None:\n",
    "        return 'Empty LinkedList'  # If the list is empty, return an error message\n",
    "    \n",
    "    curr = self.head\n",
    "    # If there is only one node, simply delete the head\n",
    "    if curr.next == None:\n",
    "        return self.delete_head()\n",
    "    \n",
    "    # Traverse to the second last node\n",
    "    while curr.next.next != None:\n",
    "        curr = curr.next\n",
    "    \n",
    "    # Remove the last node by setting the second last node's next pointer to None\n",
    "    curr.next = None\n",
    "    self.n -= 1  # Decrement the size of the linked list\n",
    "\n",
    "  def remove(self, value):\n",
    "    # Remove the first occurrence of a node with the given value\n",
    "    if self.head == None:\n",
    "      return 'Empty LL'  # If the list is empty, return an error message\n",
    "\n",
    "    # If the node to be removed is the head node\n",
    "    if self.head.data == value:\n",
    "      return self.delete_head()\n",
    "    \n",
    "    curr = self.head\n",
    "    # Traverse to find the node with the given value\n",
    "    while curr.next != None:\n",
    "      if curr.next.data == value:  # If the next node contains the value\n",
    "        break\n",
    "      curr = curr.next\n",
    "    \n",
    "    # If the value is not found\n",
    "    if curr.next == None:\n",
    "      return 'Not Found'\n",
    "    else:\n",
    "      # Remove the node by updating the next pointer of the previous node\n",
    "      curr.next = curr.next.next\n",
    "      self.n -= 1  # Decrement the size of the linked list\n",
    "\n",
    "  def search(self, item):\n",
    "    # Search for a node with the given value and return its position (index)\n",
    "    curr = self.head\n",
    "    pos = 0\n",
    "    while curr != None:\n",
    "        if curr.data == item:  # If the current node contains the item\n",
    "            return pos  # Return the position (index)\n",
    "        curr = curr.next  # Move to the next node\n",
    "        pos += 1  # Increment the position\n",
    "\n",
    "    return 'Item not found'  # If the item is not found, return an error message\n",
    "\n",
    "  def __getitem__(self, index):\n",
    "    # Get the data of the node at the specified index\n",
    "    curr = self.head\n",
    "    pos = 0\n",
    "    while curr != None:\n",
    "        if pos == index:  # If the current node's position matches the index\n",
    "            return curr.data  # Return the node's data\n",
    "        curr = curr.next  # Move to the next node\n",
    "        pos += 1  # Increment the position\n",
    "\n",
    "    return 'IndexError'  # If the index is out of bounds, return an error message\n",
    "\n",
    "  def replace_max(self, value):\n",
    "    # Replace the maximum value node with the given value\n",
    "    curr = self.head\n",
    "    max_node = curr\n",
    "    while curr != None:\n",
    "        if curr.data > max_node.data:  # If the current node has a larger value than the current max\n",
    "            max_node = curr  # Update the max node\n",
    "        curr = curr.next  # Move to the next node\n",
    "    \n",
    "    max_node.data = value  # Replace the data of the max node with the new value\n",
    "\n",
    "  def replace_min(self, value):\n",
    "    # Replace the minimum value node with the given value\n",
    "    curr = self.head\n",
    "    min_node = curr\n",
    "    while curr != None:\n",
    "        if curr.data < min_node.data:  # If the current node has a smaller value than the current min\n",
    "            min_node = curr  # Update the min node\n",
    "        curr = curr.next  # Move to the next node\n",
    "    \n",
    "    min_node.data = value  # Replace the data of the min node with the new value\n",
    "\n",
    "  def sum_odd_nodes(self):\n",
    "    # Sum the values of nodes at odd positions\n",
    "    temp = self.head\n",
    "    counter = 0\n",
    "    result = 0\n",
    "\n",
    "    # Traverse through the linked list\n",
    "    while temp is not None:\n",
    "        if counter % 2 != 0:  # If the node is at an odd position\n",
    "            result += temp.data  # Add its data to the result\n",
    "        counter += 1  # Increment the counter to track position\n",
    "        temp = temp.next  # Move to the next node\n",
    "    \n",
    "    print(result)  # Print the sum of nodes at odd positions\n"
   ]
  },
  {
   "cell_type": "code",
   "execution_count": 4,
   "id": "916714dc-f36b-4bf8-9b6a-8052dfddaa0f",
   "metadata": {},
   "outputs": [],
   "source": [
    "L = LinkedList()"
   ]
  },
  {
   "cell_type": "code",
   "execution_count": 5,
   "id": "72b0c225-9b31-4a42-a647-58b716976036",
   "metadata": {},
   "outputs": [],
   "source": [
    "L.insert_head(4)\n",
    "L.insert_head(3)\n",
    "L.insert_head(2)\n",
    "L.insert_head(1)"
   ]
  },
  {
   "cell_type": "code",
   "execution_count": 29,
   "id": "62d394b8-282b-4ae4-ab46-ea257e41aec7",
   "metadata": {},
   "outputs": [],
   "source": [
    "L.insert_after(1,0)"
   ]
  },
  {
   "cell_type": "code",
   "execution_count": 43,
   "id": "c1f12fe2-f03b-4788-aa00-8ad0c2a6ed8c",
   "metadata": {},
   "outputs": [],
   "source": [
    "L.append(6)"
   ]
  },
  {
   "cell_type": "code",
   "execution_count": 11,
   "id": "3763e901-3eff-4910-a41d-a3d69af123b6",
   "metadata": {},
   "outputs": [],
   "source": [
    "L.delete_head()"
   ]
  },
  {
   "cell_type": "code",
   "execution_count": 35,
   "id": "f3afd9c2-8307-46f3-b1a0-2b7b3f206ed4",
   "metadata": {},
   "outputs": [
    {
     "data": {
      "text/plain": [
       "'Empty LinkedList'"
      ]
     },
     "execution_count": 35,
     "metadata": {},
     "output_type": "execute_result"
    }
   ],
   "source": [
    "L.pop()"
   ]
  },
  {
   "cell_type": "code",
   "execution_count": 7,
   "id": "dc23082a-4a15-45bc-b05d-61321b161ef0",
   "metadata": {},
   "outputs": [],
   "source": [
    "L.remove(2)"
   ]
  },
  {
   "cell_type": "code",
   "execution_count": 25,
   "id": "c9c8edee-b1ec-4677-8cd4-3014970d2100",
   "metadata": {},
   "outputs": [
    {
     "data": {
      "text/plain": [
       "3"
      ]
     },
     "execution_count": 25,
     "metadata": {},
     "output_type": "execute_result"
    }
   ],
   "source": [
    "L.search(4)"
   ]
  },
  {
   "cell_type": "code",
   "execution_count": 36,
   "id": "1610f2ae-7857-4612-bc3e-8316aa3cac49",
   "metadata": {},
   "outputs": [
    {
     "data": {
      "text/plain": [
       "4"
      ]
     },
     "execution_count": 36,
     "metadata": {},
     "output_type": "execute_result"
    }
   ],
   "source": [
    "L[3]"
   ]
  },
  {
   "cell_type": "code",
   "execution_count": 20,
   "id": "7732b652-18ff-46ef-b9e4-51e20125c5e1",
   "metadata": {},
   "outputs": [],
   "source": [
    "L.replace_max(2)"
   ]
  },
  {
   "cell_type": "code",
   "execution_count": 18,
   "id": "881c86de-abf1-44e4-b208-ac99188136b5",
   "metadata": {},
   "outputs": [],
   "source": [
    "L.replace_min(1)"
   ]
  },
  {
   "cell_type": "code",
   "execution_count": 6,
   "id": "bb3c9639-8079-48f6-833d-771df768f567",
   "metadata": {},
   "outputs": [
    {
     "name": "stdout",
     "output_type": "stream",
     "text": [
      "1->2->3->4\n"
     ]
    }
   ],
   "source": [
    "print(L)"
   ]
  },
  {
   "cell_type": "code",
   "execution_count": 7,
   "id": "bca91652-0261-4f15-8a38-ac2e46d99a07",
   "metadata": {},
   "outputs": [
    {
     "name": "stdout",
     "output_type": "stream",
     "text": [
      "6\n"
     ]
    }
   ],
   "source": [
    "L.sum_odd_nodes()"
   ]
  },
  {
   "cell_type": "code",
   "execution_count": null,
   "id": "5d9e76f2-b219-4b7d-95c7-38a878dde813",
   "metadata": {},
   "outputs": [],
   "source": []
  }
 ],
 "metadata": {
  "kernelspec": {
   "display_name": "Python 3 (ipykernel)",
   "language": "python",
   "name": "python3"
  },
  "language_info": {
   "codemirror_mode": {
    "name": "ipython",
    "version": 3
   },
   "file_extension": ".py",
   "mimetype": "text/x-python",
   "name": "python",
   "nbconvert_exporter": "python",
   "pygments_lexer": "ipython3",
   "version": "3.12.7"
  }
 },
 "nbformat": 4,
 "nbformat_minor": 5
}
