{
 "cells": [
  {
   "cell_type": "code",
   "execution_count": 49,
   "id": "62a9bbb5-928d-4f44-bdb3-c92912bd8be0",
   "metadata": {},
   "outputs": [],
   "source": [
    "import ctypes\n",
    "# to create C type array"
   ]
  },
  {
   "cell_type": "code",
   "execution_count": 50,
   "id": "3457bc79-f96b-4222-ad8c-e6db79c981f8",
   "metadata": {},
   "outputs": [],
   "source": [
    "class MyList :\n",
    "    def __init__(self):\n",
    "        self.size = 1\n",
    "        self.n = 0\n",
    "    # creates a c type array with size = self.size\n",
    "        self.A = self.__make_array(self.size)\n",
    "\n",
    "    def __len__(self):\n",
    "      return self.n\n",
    "\n",
    "    def __str__(self):\n",
    "        result = ''\n",
    "        for i in range (self.n):\n",
    "          result = result + str(self.A[i]) + ','\n",
    "        return '[' + result[:-1] + ']'\n",
    "\n",
    "    def __getitem__(self,index):\n",
    "        if 0 <= index < self.n:\n",
    "            return self.A[index]\n",
    "        else:\n",
    "            return 'IndexError - Index out of bound'\n",
    "\n",
    "\n",
    "    def __delitem__(self,pos):\n",
    "        if 0 <= pos < self.n:\n",
    "            for i in range(pos,self.n-1):\n",
    "                self.A[i] = self.A[i+1]\n",
    "\n",
    "        self.n = self.n - 1\n",
    "            \n",
    "\n",
    "    def append(self,item):\n",
    "    # check if array is full\n",
    "        if self.n == self.size:\n",
    "    # if array is full -> resize\n",
    "          self.__resize(self.size*2)\n",
    "    # append\n",
    "        self.A[self.n] = item\n",
    "        self.n = self.n + 1\n",
    "        \n",
    "\n",
    "    def pop(self):\n",
    "        if self.n == 0:\n",
    "            return 'Empty List'\n",
    "\n",
    "        print(self.A[self.n-1])\n",
    "        self.n = self.n - 1\n",
    "\n",
    "    def clear(self):\n",
    "        self.n = 0\n",
    "        self.size = 1\n",
    "\n",
    "    \n",
    "    def find(self,item):\n",
    "        for i in range(self.n):\n",
    "            if self.A[i] == item:\n",
    "                return i\n",
    "        return 'valueError - not in list'   \n",
    "\n",
    "    def insert(self,pos,item):\n",
    "\n",
    "        if self.n == self.size:\n",
    "            self.__resize(self.size*2)\n",
    "\n",
    "        for i in range(self.n,pos,-1):\n",
    "            self.A[i] = self.A[i-1]\n",
    "\n",
    "        self.A[pos] = item\n",
    "        self.n = self.n + 1\n",
    "        \n",
    "        \n",
    "    def max(self):\n",
    "        if self.n == 0:\n",
    "            return 'Array is empty'\n",
    "    \n",
    "        max_value = self.A[0]\n",
    "        for i in range(1, self.n):\n",
    "            if self.A[i] > max_value:\n",
    "                max_value = self.A[i]\n",
    "        return max_value\n",
    "        \n",
    "\n",
    "    def min(self):\n",
    "        if self.n == 0:\n",
    "            return 'Array is empty'\n",
    "    \n",
    "        min_value = self.A[0]\n",
    "        for i in range(1, self.n):\n",
    "            if self.A[i] < min_value:\n",
    "                min_value = self.A[i]\n",
    "        return min_value\n",
    "\n",
    "\n",
    "\n",
    "    def remove(self,item):\n",
    "       # search and get pos\n",
    "        pos = self.find(item)\n",
    "        if type(pos) == int:\n",
    "          # delete\n",
    "          self.__delitem__(pos)\n",
    "        else:\n",
    "          return pos  \n",
    "        \n",
    "    \n",
    "    def __resize(self,new_capacity):\n",
    "    # creating a new array with new_capacity\n",
    "        B = self.__make_array(new_capacity)\n",
    "    # updating old size to new_capacity\n",
    "        self.size = new_capacity\n",
    "\n",
    "    # copying content from old array to new array\n",
    "        for i in range(self.n):\n",
    "            B[i] = self.A[i]\n",
    "     # reassign B to A\n",
    "        self.A = B\n",
    "        \n",
    "\n",
    "    def __make_array(self,capacity):\n",
    "    # creates a c type array(self,referential) with size = self.capacity\n",
    "      return (capacity*ctypes.py_object)()"
   ]
  },
  {
   "cell_type": "code",
   "execution_count": 51,
   "id": "8b50f8e2-a3cc-4597-98a5-4385b0eea8b3",
   "metadata": {},
   "outputs": [],
   "source": [
    "L = MyList()"
   ]
  },
  {
   "cell_type": "code",
   "execution_count": 52,
   "id": "6e286399-02db-4faf-88d9-475b9ecd1d5d",
   "metadata": {},
   "outputs": [],
   "source": [
    "L.append(55)\n",
    "L.append(69)\n",
    "L.append(89)\n",
    "L.append(100)"
   ]
  },
  {
   "cell_type": "code",
   "execution_count": 53,
   "id": "a372daa8-cb79-46db-9956-fbb1ea3c230b",
   "metadata": {},
   "outputs": [
    {
     "name": "stdout",
     "output_type": "stream",
     "text": [
      "[55,69,89,100]\n"
     ]
    }
   ],
   "source": [
    "print(L)"
   ]
  },
  {
   "cell_type": "code",
   "execution_count": 54,
   "id": "d1f3e16e-fc04-4501-9686-4a974700e70c",
   "metadata": {},
   "outputs": [
    {
     "data": {
      "text/plain": [
       "100"
      ]
     },
     "execution_count": 54,
     "metadata": {},
     "output_type": "execute_result"
    }
   ],
   "source": [
    "L.max()"
   ]
  },
  {
   "cell_type": "code",
   "execution_count": 55,
   "id": "238e1e73-a65f-4e63-9473-af7d0a6ac090",
   "metadata": {},
   "outputs": [
    {
     "data": {
      "text/plain": [
       "55"
      ]
     },
     "execution_count": 55,
     "metadata": {},
     "output_type": "execute_result"
    }
   ],
   "source": [
    "L.min()"
   ]
  },
  {
   "cell_type": "code",
   "execution_count": null,
   "id": "fe9a278f-1693-4604-94bf-7b3e0bdca50a",
   "metadata": {},
   "outputs": [],
   "source": []
  }
 ],
 "metadata": {
  "kernelspec": {
   "display_name": "Python 3 (ipykernel)",
   "language": "python",
   "name": "python3"
  },
  "language_info": {
   "codemirror_mode": {
    "name": "ipython",
    "version": 3
   },
   "file_extension": ".py",
   "mimetype": "text/x-python",
   "name": "python",
   "nbconvert_exporter": "python",
   "pygments_lexer": "ipython3",
   "version": "3.12.7"
  }
 },
 "nbformat": 4,
 "nbformat_minor": 5
}
