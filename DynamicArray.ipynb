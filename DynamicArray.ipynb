{
 "cells": [
  {
   "cell_type": "code",
   "execution_count": 1,
   "id": "62a9bbb5-928d-4f44-bdb3-c92912bd8be0",
   "metadata": {},
   "outputs": [],
   "source": [
    "import ctypes\n",
    "# Import ctypes for creating low-level arrays"
   ]
  },
  {
   "cell_type": "code",
   "execution_count": 2,
   "id": "3457bc79-f96b-4222-ad8c-e6db79c981f8",
   "metadata": {},
   "outputs": [],
   "source": [
    "# Custom list class with dynamic resizing capabilities\n",
    "class MyList:\n",
    "    def __init__(self):\n",
    "        self.size = 1  # Initial size of the array\n",
    "        self.n = 0     # Number of elements in the array\n",
    "        # Creates a C-type array with initial size\n",
    "        self.A = self.__make_array(self.size)\n",
    "\n",
    "    # Returns the current number of elements in the list\n",
    "    def __len__(self):\n",
    "        return self.n\n",
    "\n",
    "    # Provides a string representation of the list for printing\n",
    "    def __str__(self):\n",
    "        result = ''\n",
    "        for i in range(self.n):\n",
    "            result += str(self.A[i]) + ','\n",
    "        return '[' + result[:-1] + ']'  # Removes trailing comma and wraps in brackets\n",
    "\n",
    "    # Retrieve item at a specified index\n",
    "    def __getitem__(self, index):\n",
    "        if 0 <= index < self.n:  # Checks if index is within bounds\n",
    "            return self.A[index]\n",
    "        else:\n",
    "            return 'IndexError - Index out of bound'\n",
    "\n",
    "    # Delete item at specified position by shifting elements left\n",
    "    def __delitem__(self, pos):\n",
    "        if 0 <= pos < self.n:  # Check if position is valid\n",
    "            for i in range(pos, self.n - 1):  # Shift elements to fill the gap\n",
    "                self.A[i] = self.A[i + 1]\n",
    "        self.n -= 1  # Decrease the count of elements\n",
    "\n",
    "    # Append a new item to the end of the list\n",
    "    def append(self, item):\n",
    "        if self.n == self.size:  # Check if array is full\n",
    "            self.__resize(self.size * 2)  # Double the array size if full\n",
    "        self.A[self.n] = item  # Add item to the array\n",
    "        self.n += 1  # Increment element count\n",
    "\n",
    "    # Remove and return the last item from the list\n",
    "    def pop(self):\n",
    "        if self.n == 0:  # Check if list is empty\n",
    "            return 'Empty List'\n",
    "        print(self.A[self.n - 1])  # Print last item\n",
    "        self.n -= 1  # Decrease element count\n",
    "\n",
    "    # Clear the list by resetting count and size\n",
    "    def clear(self):\n",
    "        self.n = 0      # Reset element count\n",
    "        self.size = 1   # Reset array size to initial capacity\n",
    "\n",
    "    # Find the index of an item in the list\n",
    "    def find(self, item):\n",
    "        for i in range(self.n):  # Traverse the array\n",
    "            if self.A[i] == item:\n",
    "                return i  # Return index if found\n",
    "        return 'valueError - not in list'  # Return error if not found\n",
    "\n",
    "    # Insert an item at a specific position\n",
    "    def insert(self, pos, item):\n",
    "        if self.n == self.size:  # Check if array needs resizing\n",
    "            self.__resize(self.size * 2)\n",
    "        for i in range(self.n, pos, -1):  # Shift elements to the right\n",
    "            self.A[i] = self.A[i - 1]\n",
    "        self.A[pos] = item  # Insert item at specified position\n",
    "        self.n += 1  # Increment element count\n",
    "\n",
    "    # Return the maximum value in the list\n",
    "    def max(self):\n",
    "        if self.n == 0:\n",
    "            return 'Array is empty'\n",
    "        max_value = self.A[0]\n",
    "        for i in range(1, self.n):  # Traverse the array to find max\n",
    "            if self.A[i] > max_value:\n",
    "                max_value = self.A[i]\n",
    "        return max_value\n",
    "\n",
    "    # Return the minimum value in the list\n",
    "    def min(self):\n",
    "        if self.n == 0:\n",
    "            return 'Array is empty'\n",
    "        min_value = self.A[0]\n",
    "        for i in range(1, self.n):  # Traverse the array to find min\n",
    "            if self.A[i] < min_value:\n",
    "                min_value = self.A[i]\n",
    "        return min_value\n",
    "\n",
    "    # Remove the first occurrence of an item from the list\n",
    "    def remove(self, item):\n",
    "        pos = self.find(item)  # Find index of item\n",
    "        if type(pos) == int:\n",
    "            self.__delitem__(pos)  # Delete item if found\n",
    "        else:\n",
    "            return pos  # Return error if item not found\n",
    "\n",
    "    # Resize the array to a new capacity\n",
    "    def __resize(self, new_capacity):\n",
    "        B = self.__make_array(new_capacity)  # Create a new array\n",
    "        self.size = new_capacity  # Update array size\n",
    "        for i in range(self.n):  # Copy elements to the new array\n",
    "            B[i] = self.A[i]\n",
    "        self.A = B  # Point to the new array\n",
    "\n",
    "    # Create and return a new array with specified capacity\n",
    "    def __make_array(self, capacity):\n",
    "        return (capacity * ctypes.py_object)()  # Create a C-type array\n"
   ]
  },
  {
   "cell_type": "code",
   "execution_count": 3,
   "id": "8b50f8e2-a3cc-4597-98a5-4385b0eea8b3",
   "metadata": {},
   "outputs": [],
   "source": [
    "L = MyList()"
   ]
  },
  {
   "cell_type": "code",
   "execution_count": 4,
   "id": "6e286399-02db-4faf-88d9-475b9ecd1d5d",
   "metadata": {},
   "outputs": [],
   "source": [
    "L.append(55)\n",
    "L.append(69)\n",
    "L.append(89)\n",
    "L.append(100)"
   ]
  },
  {
   "cell_type": "code",
   "execution_count": 5,
   "id": "a372daa8-cb79-46db-9956-fbb1ea3c230b",
   "metadata": {},
   "outputs": [
    {
     "name": "stdout",
     "output_type": "stream",
     "text": [
      "[55,69,89,100]\n"
     ]
    }
   ],
   "source": [
    "print(L)"
   ]
  },
  {
   "cell_type": "code",
   "execution_count": 54,
   "id": "d1f3e16e-fc04-4501-9686-4a974700e70c",
   "metadata": {},
   "outputs": [
    {
     "data": {
      "text/plain": [
       "100"
      ]
     },
     "execution_count": 54,
     "metadata": {},
     "output_type": "execute_result"
    }
   ],
   "source": [
    "L.max()"
   ]
  },
  {
   "cell_type": "code",
   "execution_count": 55,
   "id": "238e1e73-a65f-4e63-9473-af7d0a6ac090",
   "metadata": {},
   "outputs": [
    {
     "data": {
      "text/plain": [
       "55"
      ]
     },
     "execution_count": 55,
     "metadata": {},
     "output_type": "execute_result"
    }
   ],
   "source": [
    "L.min()"
   ]
  },
  {
   "cell_type": "code",
   "execution_count": null,
   "id": "fe9a278f-1693-4604-94bf-7b3e0bdca50a",
   "metadata": {},
   "outputs": [],
   "source": []
  }
 ],
 "metadata": {
  "kernelspec": {
   "display_name": "Python 3 (ipykernel)",
   "language": "python",
   "name": "python3"
  },
  "language_info": {
   "codemirror_mode": {
    "name": "ipython",
    "version": 3
   },
   "file_extension": ".py",
   "mimetype": "text/x-python",
   "name": "python",
   "nbconvert_exporter": "python",
   "pygments_lexer": "ipython3",
   "version": "3.12.7"
  }
 },
 "nbformat": 4,
 "nbformat_minor": 5
}
