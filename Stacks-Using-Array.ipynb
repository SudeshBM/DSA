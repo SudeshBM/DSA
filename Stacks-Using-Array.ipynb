{
 "cells": [
  {
   "cell_type": "code",
   "execution_count": 14,
   "id": "bee71993-b394-4af7-b112-dbcccb06d8aa",
   "metadata": {},
   "outputs": [],
   "source": [
    "class Stack:\n",
    "\n",
    "    def __init__(self, size):\n",
    "        # Initialize the stack with a fixed size\n",
    "        self.size = size\n",
    "        # Create a list to simulate the stack, initialized with None values\n",
    "        self.__stack = [None] * self.size\n",
    "        # Initialize the top of the stack to -1, indicating the stack is empty\n",
    "        self.top = -1\n",
    "\n",
    "    def push(self, value):\n",
    "        # Check if the stack is full (overflow condition)\n",
    "        if self.top == self.size - 1:\n",
    "            return \"Overflow\"\n",
    "        else:\n",
    "            # Increment the top pointer to the next position\n",
    "            self.top += 1\n",
    "            # Insert the new value at the top of the stack\n",
    "            self.__stack[self.top] = value\n",
    "\n",
    "    def pop(self):\n",
    "        # Check if the stack is empty\n",
    "        if self.top == -1:\n",
    "            return \"Empty\"\n",
    "        else:\n",
    "            # Retrieve the value from the top of the stack\n",
    "            data = self.__stack[self.top]\n",
    "            # Decrement the top pointer to remove the top element\n",
    "            self.top -= 1\n",
    "            # Print the popped value\n",
    "            print(data)\n",
    "\n",
    "    def traverse(self):\n",
    "        # Loop through the stack from bottom to top\n",
    "        for i in range(self.top + 1):\n",
    "            # Print each value in the stack\n",
    "            print(self.__stack[i], end=' ')\n",
    "\n"
   ]
  },
  {
   "cell_type": "code",
   "execution_count": 15,
   "id": "11473fe4-4630-4326-9735-a0a9d729a603",
   "metadata": {},
   "outputs": [],
   "source": [
    "s = Stack(5)"
   ]
  },
  {
   "cell_type": "code",
   "execution_count": 16,
   "id": "e8891280-65af-411e-9a72-fa3c1fec5d7d",
   "metadata": {},
   "outputs": [],
   "source": [
    "s.push(10)\n",
    "s.push(20)\n",
    "s.push(30)\n",
    "s.push(40)\n"
   ]
  },
  {
   "cell_type": "code",
   "execution_count": 17,
   "id": "5b7a5fcf-c1e9-4fd6-8109-f4222114630b",
   "metadata": {},
   "outputs": [
    {
     "name": "stdout",
     "output_type": "stream",
     "text": [
      "10 20 30 40 "
     ]
    }
   ],
   "source": [
    "s.traverse()\n"
   ]
  },
  {
   "cell_type": "code",
   "execution_count": null,
   "id": "ef5fb663-3fd8-4a5a-976b-5a4c10759c19",
   "metadata": {},
   "outputs": [],
   "source": [
    "s.pop()\n",
    "\n"
   ]
  },
  {
   "cell_type": "code",
   "execution_count": null,
   "id": "2d2385de-d192-48c1-8bca-a8807f0b46c1",
   "metadata": {},
   "outputs": [],
   "source": [
    "s.traverse()"
   ]
  }
 ],
 "metadata": {
  "kernelspec": {
   "display_name": "Python 3 (ipykernel)",
   "language": "python",
   "name": "python3"
  },
  "language_info": {
   "codemirror_mode": {
    "name": "ipython",
    "version": 3
   },
   "file_extension": ".py",
   "mimetype": "text/x-python",
   "name": "python",
   "nbconvert_exporter": "python",
   "pygments_lexer": "ipython3",
   "version": "3.12.7"
  }
 },
 "nbformat": 4,
 "nbformat_minor": 5
}
