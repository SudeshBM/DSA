{
 "cells": [
  {
   "cell_type": "code",
   "execution_count": 10,
   "id": "caf62b4e-784c-48f6-ba6e-69c58ca7cf2e",
   "metadata": {},
   "outputs": [],
   "source": [
    "# Define a Node class to create individual elements (nodes) for the stack\n",
    "class Node:\n",
    "    def __init__(self, value):\n",
    "        self.data = value  # Stores the value of the node\n",
    "        self.next = None   # Points to the next node in the stack"
   ]
  },
  {
   "cell_type": "code",
   "execution_count": 11,
   "id": "1da72ae5-c57a-44b9-bbbc-adb0a351ac05",
   "metadata": {},
   "outputs": [],
   "source": [
    "# Define the Stack class to implement stack operations\n",
    "class Stack:\n",
    "    def __init__(self):\n",
    "        self.top = None  # Initialize the top of the stack as None (empty stack)\n",
    "\n",
    "    # Traverse through the stack and print each element's data\n",
    "    def traverse(self):\n",
    "        temp = self.top  # Start from the top of the stack\n",
    "        while temp is not None:\n",
    "            print(temp.data)  # Print data of current node\n",
    "            temp = temp.next  # Move to the next node\n",
    "\n",
    "    # Check if the stack is empty\n",
    "    def isempty(self):\n",
    "        return self.top is None\n",
    "\n",
    "    # Push a new value onto the stack\n",
    "    def push(self, value):\n",
    "        new_node = Node(value)  # Create a new node with the given value\n",
    "        new_node.next = self.top  # Link new node to the current top\n",
    "        self.top = new_node  # Update top to the new node\n",
    "\n",
    "    # Remove and return the top value from the stack\n",
    "    def pop(self):\n",
    "        if self.isempty():  # If stack is empty, return a message\n",
    "            return 'Stack Empty'\n",
    "        else:\n",
    "            data = self.top.data  # Store the data to return\n",
    "            self.top = self.top.next  # Move top to the next node\n",
    "            return data  # Return the popped value\n",
    "\n",
    "    # Peek at the top value without removing it\n",
    "    def peek(self):\n",
    "        if self.isempty():  # If stack is empty, return a message\n",
    "            return 'Stack Empty'\n",
    "        else:\n",
    "            return self.top.data  # Return the top value without popping\n",
    "\n",
    "    # Get the size (number of elements) of the stack\n",
    "    def size(self):\n",
    "        temp = self.top  # Start from the top\n",
    "        counter = 0  # Initialize counter\n",
    "        while temp is not None:\n",
    "            temp = temp.next  # Move to the next node\n",
    "            counter += 1  # Increment counter for each node\n",
    "        return counter  # Return the total count of nodes"
   ]
  },
  {
   "cell_type": "code",
   "execution_count": 66,
   "id": "14228fe1-056d-42fd-ad34-804b5ab42ceb",
   "metadata": {},
   "outputs": [],
   "source": [
    "s = Stack()"
   ]
  },
  {
   "cell_type": "code",
   "execution_count": 67,
   "id": "1e9b8753-f8ad-4cb3-9306-e4efbb293477",
   "metadata": {},
   "outputs": [],
   "source": [
    "s.push(1)\n",
    "s.push(2)\n",
    "s.push(3)\n",
    "s.push(4)\n",
    "s.push(5)"
   ]
  },
  {
   "cell_type": "code",
   "execution_count": 55,
   "id": "bb37525e-fdc1-4284-bc81-a4446b23cc24",
   "metadata": {},
   "outputs": [
    {
     "name": "stdout",
     "output_type": "stream",
     "text": [
      "5\n",
      "4\n",
      "3\n",
      "2\n",
      "1\n"
     ]
    }
   ],
   "source": [
    "s.traverse()"
   ]
  },
  {
   "cell_type": "code",
   "execution_count": 56,
   "id": "151d9713-a4f1-4353-8c8e-2d84a24ba2d9",
   "metadata": {},
   "outputs": [
    {
     "data": {
      "text/plain": [
       "5"
      ]
     },
     "execution_count": 56,
     "metadata": {},
     "output_type": "execute_result"
    }
   ],
   "source": [
    "s.peek()"
   ]
  },
  {
   "cell_type": "code",
   "execution_count": 68,
   "id": "534aa3ee-a437-432d-bcf0-24c00265ce1b",
   "metadata": {},
   "outputs": [
    {
     "data": {
      "text/plain": [
       "5"
      ]
     },
     "execution_count": 68,
     "metadata": {},
     "output_type": "execute_result"
    }
   ],
   "source": [
    "s.size()"
   ]
  },
  {
   "cell_type": "code",
   "execution_count": 57,
   "id": "8443d011-4eab-4866-8fac-7b65364633db",
   "metadata": {},
   "outputs": [
    {
     "data": {
      "text/plain": [
       "False"
      ]
     },
     "execution_count": 57,
     "metadata": {},
     "output_type": "execute_result"
    }
   ],
   "source": [
    "s.isempty()"
   ]
  },
  {
   "cell_type": "code",
   "execution_count": 12,
   "id": "2faec27b-41b9-4657-baca-d2e9494e4450",
   "metadata": {},
   "outputs": [],
   "source": [
    "# Function to reverse a string using a stack\n",
    "def reverse_string(string):\n",
    "    s = Stack()  # Create a new stack\n",
    "    for i in string:\n",
    "        s.push(i)  # Push each character of the string onto the stack\n",
    "\n",
    "    res = \"\"  # Initialize an empty result string\n",
    "    while not s.isempty():\n",
    "        res = res + s.pop()  # Pop characters from the stack and add to result\n",
    "    print(res)  # Print the reversed string"
   ]
  },
  {
   "cell_type": "code",
   "execution_count": 88,
   "id": "b04c1f1e-1d52-4623-be38-f96c8296861f",
   "metadata": {},
   "outputs": [
    {
     "name": "stdout",
     "output_type": "stream",
     "text": [
      "hsedus\n"
     ]
    }
   ],
   "source": [
    "reverse_string(\"sudesh\")"
   ]
  },
  {
   "cell_type": "code",
   "execution_count": 13,
   "id": "1dca57ee-fc73-4bd0-b8a5-7a334c46d652",
   "metadata": {},
   "outputs": [],
   "source": [
    "# Function to simulate an undo/redo feature in a text editor\n",
    "def text_editor(text, pattern):\n",
    "    u = Stack()  # Stack to handle the current state (undo)\n",
    "    r = Stack()  # Stack to handle the redo operations\n",
    "\n",
    "    for i in text:\n",
    "        u.push(i)  # Push initial text onto the undo stack\n",
    "\n",
    "    for i in pattern:\n",
    "        if i == 'u':  # If 'u' (undo) is in pattern\n",
    "            data = u.pop()  # Pop from undo stack\n",
    "            r.push(data)  # Push it onto the redo stack\n",
    "        else:  # Else, it's 'r' (redo)\n",
    "            data = r.pop()  # Pop from redo stack\n",
    "            u.push(data)  # Push it back onto the undo stack\n",
    "\n",
    "    res = ''  # Initialize result text\n",
    "    while not u.isempty():\n",
    "        res = u.pop() + res  # Pop all characters from the undo stack\n",
    "    print(res)  # Print the final text after undo/redo operations"
   ]
  },
  {
   "cell_type": "code",
   "execution_count": 14,
   "id": "4e3e4c9e-48a8-48de-98e2-10b3a018358d",
   "metadata": {},
   "outputs": [
    {
     "name": "stdout",
     "output_type": "stream",
     "text": [
      "Hel\n"
     ]
    }
   ],
   "source": [
    "text_editor(\"Hello\",\"uurruuur\")"
   ]
  },
  {
   "cell_type": "code",
   "execution_count": 65,
   "id": "feb2d113-44fe-4b3b-b080-0d713e8605be",
   "metadata": {},
   "outputs": [],
   "source": [
    "L = [\n",
    "     [0,0,1,1],\n",
    "     [0,0,1,0],\n",
    "     [0,0,0,0],\n",
    "     [0,0,1,0]\n",
    "]\n"
   ]
  },
  {
   "cell_type": "code",
   "execution_count": 68,
   "id": "55bb4db2-a209-4142-9530-0de9667680c4",
   "metadata": {},
   "outputs": [],
   "source": [
    "def celebrity(L):\n",
    "    s = Stack()\n",
    "\n",
    "    # Populate the stack with all indices\n",
    "    for i in range(len(L)):\n",
    "        s.push(i)\n",
    "\n",
    "    # Determine a potential celebrity by comparing pairs\n",
    "    while s.size() >= 2:\n",
    "        i = s.pop()\n",
    "        j = s.pop()\n",
    "\n",
    "        if L[i][j] == 0:\n",
    "            # j cannot be a celebrity, push i back\n",
    "            s.push(i)\n",
    "        else:\n",
    "            # i cannot be a celebrity, push j back\n",
    "            s.push(j)\n",
    "\n",
    "    # The last person in the stack is the candidate for celebrity\n",
    "    celeb = s.pop()\n",
    "\n",
    "    # Verify if the candidate is a celebrity\n",
    "    for i in range(len(L)):\n",
    "        if i != celeb:\n",
    "            if L[i][celeb] == 0 or L[celeb][i] == 1:\n",
    "                print(\"No one is a celebrity\")\n",
    "                return\n",
    "\n",
    "    print(\"Celebrity is\", celeb)\n"
   ]
  },
  {
   "cell_type": "code",
   "execution_count": 69,
   "id": "78229de4-6fbd-4e36-82d8-20038c669ec5",
   "metadata": {},
   "outputs": [
    {
     "name": "stdout",
     "output_type": "stream",
     "text": [
      "Celebrity is 2\n"
     ]
    }
   ],
   "source": [
    "celebrity(L)"
   ]
  },
  {
   "cell_type": "code",
   "execution_count": 15,
   "id": "c9673502-01e1-4af3-924a-c9b869192229",
   "metadata": {},
   "outputs": [],
   "source": [
    "# Function to check if brackets in an expression are balanced\n",
    "def brackets(expr):\n",
    "    s = Stack()  # Stack to keep track of open brackets\n",
    "\n",
    "    for i in expr:\n",
    "        if i == '(':  # If opening bracket, push onto stack\n",
    "            s.push(i)\n",
    "        elif i == ')':  # If closing bracket\n",
    "            if s.peek() == '(':  # Check if top is an opening bracket\n",
    "                s.pop()  # Pop the matching opening bracket\n",
    "            else:\n",
    "                print(\"Imbalanced\")  # Imbalance found\n",
    "                return\n",
    "\n",
    "    # If stack is empty, all brackets are balanced; otherwise, they're imbalanced\n",
    "    if s.isempty():\n",
    "        print(\"Balanced\")\n",
    "    else:\n",
    "        print(\"Imbalanced\")"
   ]
  },
  {
   "cell_type": "code",
   "execution_count": 20,
   "id": "fb3ce77f-c390-4630-a7c1-95f450dada92",
   "metadata": {},
   "outputs": [
    {
     "name": "stdout",
     "output_type": "stream",
     "text": [
      "Imbalanced\n"
     ]
    }
   ],
   "source": [
    "brackets('({a+)b})')"
   ]
  },
  {
   "cell_type": "code",
   "execution_count": null,
   "id": "dc02a186-0158-4c77-a2d9-006fd6b9deda",
   "metadata": {},
   "outputs": [],
   "source": []
  }
 ],
 "metadata": {
  "kernelspec": {
   "display_name": "Python 3 (ipykernel)",
   "language": "python",
   "name": "python3"
  },
  "language_info": {
   "codemirror_mode": {
    "name": "ipython",
    "version": 3
   },
   "file_extension": ".py",
   "mimetype": "text/x-python",
   "name": "python",
   "nbconvert_exporter": "python",
   "pygments_lexer": "ipython3",
   "version": "3.12.7"
  }
 },
 "nbformat": 4,
 "nbformat_minor": 5
}
